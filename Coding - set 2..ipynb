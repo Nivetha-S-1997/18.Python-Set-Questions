{
 "cells": [
  {
   "cell_type": "code",
   "execution_count": null,
   "id": "aba1475d",
   "metadata": {},
   "outputs": [],
   "source": [
    "1.Write a Python program to find the reverse of a string. Expected Output (for input \"hello\"):\n",
    "olleh\n"
   ]
  },
  {
   "cell_type": "code",
   "execution_count": 1,
   "id": "87bb2626-9be3-4e83-99e8-3f90976866d4",
   "metadata": {},
   "outputs": [
    {
     "name": "stdin",
     "output_type": "stream",
     "text": [
      "Enter a word:  hello\n"
     ]
    },
    {
     "name": "stdout",
     "output_type": "stream",
     "text": [
      "olleh\n"
     ]
    }
   ],
   "source": [
    "#Answer:\n",
    "text=input('Enter a word: ')\n",
    "reversed_text=text[::-1] #string slicing method\n",
    "print(reversed_text)"
   ]
  },
  {
   "cell_type": "code",
   "execution_count": null,
   "id": "5b1ec143",
   "metadata": {},
   "outputs": [],
   "source": [
    "2.Write a Python program to generate the Fibonacci sequence up to 10 terms.\n",
    "Expected Output:\n",
    "0 1 1 2 3 5 8 13 21 34\n",
    "\n"
   ]
  },
  {
   "cell_type": "code",
   "execution_count": 2,
   "id": "730e4698-e90d-44d3-a92e-f427fa782932",
   "metadata": {},
   "outputs": [
    {
     "name": "stdout",
     "output_type": "stream",
     "text": [
      "[0, 1, 1, 2, 3, 5, 8, 13, 21, 34]\n"
     ]
    }
   ],
   "source": [
    "#Answer:\n",
    "def fibonacci(n):\n",
    "    Fibonacci_series=[0,1]\n",
    "    for i in range(2,n):\n",
    "        add=Fibonacci_series[-1]+Fibonacci_series[-2] #Fibonacci rule --> adding last two terms\n",
    "        Fibonacci_series.append(add)\n",
    "    return Fibonacci_series\n",
    "Fibonacci_series=fibonacci(10)\n",
    "print(Fibonacci_series)"
   ]
  },
  {
   "cell_type": "code",
   "execution_count": null,
   "id": "c656f04a",
   "metadata": {},
   "outputs": [],
   "source": [
    "3.Write a Python function to check if a given string is a palindrome.\n",
    "Expected Output (for input \"madam\"):\n",
    "madam is a palindrome\n",
    "\n"
   ]
  },
  {
   "cell_type": "code",
   "execution_count": 3,
   "id": "6f75b565-5345-41b8-8656-b29417d1742a",
   "metadata": {},
   "outputs": [
    {
     "name": "stdin",
     "output_type": "stream",
     "text": [
      "Enter a word:  madam\n"
     ]
    },
    {
     "name": "stdout",
     "output_type": "stream",
     "text": [
      "madam is a palindrome\n"
     ]
    }
   ],
   "source": [
    "#Answer:\n",
    "word=input('Enter a word: ')\n",
    "reverse_word=word[::-1]\n",
    "if word==reverse_word: #palindrome condition\n",
    "    print('%s is a palindrome'%word)\n",
    "else:\n",
    "    print('%s is a not a palindrome'%word)"
   ]
  },
  {
   "cell_type": "code",
   "execution_count": null,
   "id": "cd7b0a78",
   "metadata": {},
   "outputs": [],
   "source": [
    "4.Write a Python program to count the number of vowels in a given string. \n",
    "Expected Output (for input \"education\"):\n",
    "\n",
    "Number of vowels: 5"
   ]
  },
  {
   "cell_type": "code",
   "execution_count": 4,
   "id": "5825de90-f209-46e2-bc97-279d07dbfdd0",
   "metadata": {},
   "outputs": [
    {
     "name": "stdin",
     "output_type": "stream",
     "text": [
      "Enter a word:  Education\n"
     ]
    },
    {
     "name": "stdout",
     "output_type": "stream",
     "text": [
      "Number of vowels:  5\n"
     ]
    }
   ],
   "source": [
    "#Answer:\n",
    "vowels=['a','e','i','o','u','A','E','I','O','U']\n",
    "string=input('Enter a word: ')\n",
    "no_of_vowels=[]\n",
    "for i in string:\n",
    "    if i in vowels:\n",
    "        no_of_vowels.append(i)\n",
    "print('Number of vowels: ',len(no_of_vowels))"
   ]
  },
  {
   "cell_type": "code",
   "execution_count": null,
   "id": "bdbb9b19",
   "metadata": {},
   "outputs": [],
   "source": [
    "5.Write a Python program to remove duplicates from a list.\n",
    "Expected Output (for input [1, 2, 2, 3, 4, 4, 5]):\n",
    "\n",
    " [1, 2, 3, 4, 5]"
   ]
  },
  {
   "cell_type": "code",
   "execution_count": 5,
   "id": "1abcd18f-ac0a-4dd3-bac9-7270dda9bee3",
   "metadata": {},
   "outputs": [
    {
     "name": "stdout",
     "output_type": "stream",
     "text": [
      "[1, 2, 3, 4, 5]\n"
     ]
    }
   ],
   "source": [
    "#Answer:\n",
    "list_num=[1, 2, 2, 3, 4, 4, 5]\n",
    "new_list=[]\n",
    "for i in list_num:\n",
    "    if i not in new_list:\n",
    "        new_list.append(i)\n",
    "print(new_list)"
   ]
  }
 ],
 "metadata": {
  "kernelspec": {
   "display_name": "Python 3 (ipykernel)",
   "language": "python",
   "name": "python3"
  },
  "language_info": {
   "codemirror_mode": {
    "name": "ipython",
    "version": 3
   },
   "file_extension": ".py",
   "mimetype": "text/x-python",
   "name": "python",
   "nbconvert_exporter": "python",
   "pygments_lexer": "ipython3",
   "version": "3.12.7"
  }
 },
 "nbformat": 4,
 "nbformat_minor": 5
}
