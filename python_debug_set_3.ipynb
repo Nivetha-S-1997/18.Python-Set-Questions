{
 "cells": [
  {
   "cell_type": "code",
   "execution_count": null,
   "id": "e0cda6bb",
   "metadata": {
    "id": "e0cda6bb"
   },
   "outputs": [],
   "source": [
    "#1.What is wrong with the following function definition, and how do you fix it?\n",
    "\n",
    "\n",
    "def say_hello(name)\n",
    "    print(\"Hello, \" + name)\n"
   ]
  },
  {
   "cell_type": "code",
   "execution_count": null,
   "id": "e0359d24-c139-4f0f-9d0e-bbc0983c7f12",
   "metadata": {},
   "outputs": [],
   "source": [
    "#1. Answer:\n",
    "def say_hello(name):\n",
    "    print(\"Hello, \" + name)"
   ]
  },
  {
   "cell_type": "code",
   "execution_count": null,
   "id": "8e33c083",
   "metadata": {
    "id": "8e33c083"
   },
   "outputs": [],
   "source": [
    "#2.What error will occur in the following code, and how do you fix it?\n",
    "\n",
    "\n",
    "age = 25\n",
    "print(\"I am \" + age + \" years old\")\n"
   ]
  },
  {
   "cell_type": "code",
   "execution_count": null,
   "id": "10765df7-0c6b-428b-bbb9-9c9c732fe4d5",
   "metadata": {},
   "outputs": [],
   "source": [
    "#2. Answer:\n",
    "age = 25\n",
    "print(\"I am \" + str(age) + \" years old\")"
   ]
  },
  {
   "cell_type": "code",
   "execution_count": null,
   "id": "52da6958",
   "metadata": {
    "id": "52da6958"
   },
   "outputs": [],
   "source": [
    "#3.Question:\n",
    "What is the issue with the following code?\n",
    "\n",
    "def greet():\n",
    "    message = \"Hello\"\n",
    "print(message)\n"
   ]
  },
  {
   "cell_type": "code",
   "execution_count": null,
   "id": "0f610d8f-cfde-4fb2-b35f-d028c7ba99a3",
   "metadata": {},
   "outputs": [],
   "source": [
    "#3. Answer: Error: The function does not return the variable\n",
    "def greet():\n",
    "    message = \"Hello\"\n",
    "    return message\n",
    "print(message)"
   ]
  },
  {
   "cell_type": "code",
   "execution_count": null,
   "id": "98d811ab",
   "metadata": {
    "id": "98d811ab"
   },
   "outputs": [],
   "source": [
    "#4.What error will occur in the following code, and how do you fix it?\n",
    "\n",
    "def add(a, b):\n",
    "    return a + b\n",
    "\n",
    "print(add(5))\n"
   ]
  },
  {
   "cell_type": "code",
   "execution_count": null,
   "id": "6fd674bd-5c1a-45ef-962d-99c1c9303aac",
   "metadata": {},
   "outputs": [],
   "source": [
    "#4. Answer:\n",
    "#Error: Two arguments needed, one argument passed instead\n",
    "def add(a, b):\n",
    "    return a + b\n",
    "\n",
    "print(add(5,5))"
   ]
  },
  {
   "cell_type": "code",
   "execution_count": null,
   "id": "87cdb40a",
   "metadata": {
    "id": "87cdb40a"
   },
   "outputs": [],
   "source": [
    "#5.What is wrong with this code?\n",
    "\n",
    "def is_even(n):\n",
    "    if n % 2 == 1:\n",
    "        return True\n",
    "    else:\n",
    "        return False\n"
   ]
  },
  {
   "cell_type": "code",
   "execution_count": null,
   "id": "f5939c50-4ddf-4c1e-8645-54cd70359ae0",
   "metadata": {},
   "outputs": [],
   "source": [
    "#5. Answer:\n",
    "def is_even(n):\n",
    "    if n % 2 == 0:\n",
    "        return True\n",
    "    else:\n",
    "        return False"
   ]
  },
  {
   "cell_type": "code",
   "execution_count": null,
   "id": "9849beed",
   "metadata": {
    "id": "9849beed"
   },
   "outputs": [],
   "source": [
    "#6.What happens when you run this code?\n",
    "\n",
    "num = int(\"10a\")\n",
    "print(num)\n"
   ]
  },
  {
   "cell_type": "code",
   "execution_count": null,
   "id": "ce7f6a4c-08c9-4a33-ab85-7f4d473ba772",
   "metadata": {},
   "outputs": [],
   "source": [
    "#6. Answer: Error: Throws ValueError as 'a' is not an integer."
   ]
  },
  {
   "cell_type": "code",
   "execution_count": null,
   "id": "e2de2ed1",
   "metadata": {
    "id": "e2de2ed1"
   },
   "outputs": [],
   "source": [
    "#7.What will happen when you run the following code?\n",
    "\n",
    "\n",
    "numbers = [1, 2, 3, 4]\n",
    "numbers.sort().reverse()\n",
    "print(numbers)\n"
   ]
  },
  {
   "cell_type": "code",
   "execution_count": null,
   "id": "0fed2108-e074-469a-b6c4-bf9a42cf9649",
   "metadata": {},
   "outputs": [],
   "source": [
    "#7. Answer: numbers.sort() will return a None value so .reverse() will return AttributeError."
   ]
  },
  {
   "cell_type": "code",
   "execution_count": null,
   "id": "76c3f328",
   "metadata": {
    "id": "76c3f328"
   },
   "outputs": [],
   "source": [
    "#8.What is the issue with this code?\n",
    "\n",
    "\n",
    "numbers = [1, 2, 3]\n",
    "numbers = numbers.append(4)\n",
    "print(numbers)\n"
   ]
  },
  {
   "cell_type": "code",
   "execution_count": null,
   "id": "f16ebd1d-3f37-4b2d-928b-8f7d77a72a23",
   "metadata": {},
   "outputs": [],
   "source": [
    "#8.Answer:\n",
    "numbers = [1, 2, 3]\n",
    "numbers.append(4)\n",
    "print(numbers)"
   ]
  },
  {
   "cell_type": "code",
   "execution_count": null,
   "id": "4e03b70d",
   "metadata": {
    "id": "4e03b70d"
   },
   "outputs": [],
   "source": [
    "#9.What will happen when you run the following code?\n",
    "\n",
    "\n",
    "count = 10\n",
    "\n",
    "def increment():\n",
    "    count += 1\n",
    "    print(count)\n",
    "\n",
    "increment()\n"
   ]
  },
  {
   "cell_type": "code",
   "execution_count": null,
   "id": "cb3179ee-f6ea-429c-8203-f39c0ed79a39",
   "metadata": {},
   "outputs": [],
   "source": [
    "#9. Answer:\n",
    "count = 10\n",
    "\n",
    "def increment():\n",
    "    global count\n",
    "    count += 1\n",
    "    print(count)\n",
    "\n",
    "increment()"
   ]
  },
  {
   "cell_type": "code",
   "execution_count": null,
   "id": "2034a700",
   "metadata": {
    "id": "2034a700"
   },
   "outputs": [],
   "source": [
    "#10.What error will occur in the following code?\n",
    "\n",
    "text = \"Python\"\n",
    "print(text[10])\n"
   ]
  },
  {
   "cell_type": "code",
   "execution_count": null,
   "id": "1bf753bf",
   "metadata": {
    "id": "1bf753bf"
   },
   "outputs": [],
   "source": [
    "#10. Answer:\n",
    "#Error: IndexError: Passed string index is out of range\n",
    "\n",
    "text = \"Python\"\n",
    "print(text[6])"
   ]
  }
 ],
 "metadata": {
  "colab": {
   "provenance": []
  },
  "kernelspec": {
   "display_name": "Python 3 (ipykernel)",
   "language": "python",
   "name": "python3"
  },
  "language_info": {
   "codemirror_mode": {
    "name": "ipython",
    "version": 3
   },
   "file_extension": ".py",
   "mimetype": "text/x-python",
   "name": "python",
   "nbconvert_exporter": "python",
   "pygments_lexer": "ipython3",
   "version": "3.12.7"
  }
 },
 "nbformat": 4,
 "nbformat_minor": 5
}
