{
 "cells": [
  {
   "cell_type": "code",
   "execution_count": null,
   "id": "8e02775a",
   "metadata": {},
   "outputs": [],
   "source": [
    "#1.Find the error in the following Python code:\n",
    "\n",
    " for i in range(5)\n",
    "    print(i)\n",
    "    "
   ]
  },
  {
   "cell_type": "code",
   "execution_count": 1,
   "id": "c5081e5c-bbdb-4630-a066-d4b6b9fb39ef",
   "metadata": {},
   "outputs": [
    {
     "name": "stdout",
     "output_type": "stream",
     "text": [
      "0\n",
      "1\n",
      "2\n",
      "3\n",
      "4\n"
     ]
    }
   ],
   "source": [
    "#Answer:\n",
    "for i in range(0,5):\n",
    "    print(i)"
   ]
  },
  {
   "cell_type": "code",
   "execution_count": null,
   "id": "df3cee51",
   "metadata": {},
   "outputs": [],
   "source": [
    "#2.What will be the output of this code?\n",
    "\n",
    "a = 10\n",
    "b = \"5\"\n",
    "print(a + b)\n",
    " "
   ]
  },
  {
   "cell_type": "code",
   "execution_count": 2,
   "id": "c8713993-9382-422a-922b-88c329976b27",
   "metadata": {},
   "outputs": [
    {
     "name": "stdout",
     "output_type": "stream",
     "text": [
      "15\n"
     ]
    }
   ],
   "source": [
    "#Answer:\n",
    "a=10\n",
    "b=\"5\"\n",
    "print(a+int(b))"
   ]
  },
  {
   "cell_type": "code",
   "execution_count": null,
   "id": "15c2e7b2",
   "metadata": {},
   "outputs": [],
   "source": [
    "#3.What is the issue in this Python snippet?\n",
    "\n",
    " def add_numbers(a, b)\n",
    "    return a + b\n"
   ]
  },
  {
   "cell_type": "code",
   "execution_count": 3,
   "id": "476bf640-3ac7-4967-a818-15d5d021efd4",
   "metadata": {},
   "outputs": [],
   "source": [
    "#Answer:\n",
    "def add_numbers(a,b):\n",
    "    return a+b"
   ]
  },
  {
   "cell_type": "code",
   "execution_count": null,
   "id": "2f8e5efd",
   "metadata": {},
   "outputs": [],
   "source": [
    "\n",
    "#4.Identify the bug in the following Python code:\n",
    "\n",
    " numbers = [1, 2, 3, 4]\n",
    "print(numbers[4])\n"
   ]
  },
  {
   "cell_type": "code",
   "execution_count": null,
   "id": "2fb63b75-c0fe-4a28-a4c2-d8125df396dd",
   "metadata": {},
   "outputs": [],
   "source": [
    "#Answer:\n",
    "numbers[4]- There is no [4] in the numbers list since it will start as [0],[1],[2],[3]"
   ]
  },
  {
   "cell_type": "code",
   "execution_count": null,
   "id": "bc0080c1",
   "metadata": {},
   "outputs": [],
   "source": [
    "#5.Find the error in the following Python code:\n",
    "print \"Hello, World!\""
   ]
  },
  {
   "cell_type": "code",
   "execution_count": 4,
   "id": "a8fbdcc7-daae-44a2-aa66-b18743d98f1b",
   "metadata": {},
   "outputs": [
    {
     "name": "stdout",
     "output_type": "stream",
     "text": [
      "Hello, World!\n"
     ]
    }
   ],
   "source": [
    "#Answer:\n",
    "print(\"Hello, World!\")"
   ]
  },
  {
   "cell_type": "code",
   "execution_count": null,
   "id": "5b449ecb",
   "metadata": {},
   "outputs": [],
   "source": [
    "#6.Find the error in the following Python code:\n",
    "x = 5 / 0\n"
   ]
  },
  {
   "cell_type": "code",
   "execution_count": null,
   "id": "abe10fa2-7d85-4647-8058-6b53ee029b7b",
   "metadata": {},
   "outputs": [],
   "source": [
    "#Answer:\n",
    "#Division by zero is not possible"
   ]
  },
  {
   "cell_type": "code",
   "execution_count": null,
   "id": "79260565",
   "metadata": {},
   "outputs": [],
   "source": [
    "#7.Find the error in the following Python code:name = \"Alice\"\n",
    "age = 25\n",
    "print(\"Name: \" + name + \", Age: \" + age)\n"
   ]
  },
  {
   "cell_type": "code",
   "execution_count": 8,
   "id": "cb791e18-e91f-40bd-b6c8-17d64ab04c3b",
   "metadata": {},
   "outputs": [
    {
     "name": "stdout",
     "output_type": "stream",
     "text": [
      "Name: Alice,Age: 25\n"
     ]
    }
   ],
   "source": [
    "#Answer:\n",
    "name=\"Alice\"\n",
    "age=25\n",
    "print(\"Name: \"+name+\",Age: \"+str(age))"
   ]
  },
  {
   "cell_type": "code",
   "execution_count": null,
   "id": "3e4b6f3b",
   "metadata": {},
   "outputs": [],
   "source": [
    "#8.Find the error\n",
    "for i in range(1, 10, -1):\n",
    "    print(i)\n"
   ]
  },
  {
   "cell_type": "code",
   "execution_count": 9,
   "id": "e67afef3-c994-4a60-8f52-0fdd2b7eaaac",
   "metadata": {},
   "outputs": [
    {
     "name": "stdout",
     "output_type": "stream",
     "text": [
      "10\n",
      "9\n",
      "8\n",
      "7\n",
      "6\n",
      "5\n",
      "4\n",
      "3\n",
      "2\n"
     ]
    }
   ],
   "source": [
    "#Answer:\n",
    "for i in range(10,1,-1):\n",
    "    print(i)"
   ]
  },
  {
   "cell_type": "code",
   "execution_count": null,
   "id": "95976c4d",
   "metadata": {},
   "outputs": [],
   "source": [
    "#9. Find the error in the following Python code:\n",
    "x = 10\n",
    "if x = 5:\n",
    "    print(\"x is 5\")\n"
   ]
  },
  {
   "cell_type": "code",
   "execution_count": 10,
   "id": "eef7befa-f092-4f62-b3f7-10469302b254",
   "metadata": {},
   "outputs": [],
   "source": [
    "#Answer:\n",
    "x=10\n",
    "if x==5:\n",
    "    print(\"x is 5\")"
   ]
  },
  {
   "cell_type": "code",
   "execution_count": null,
   "id": "317eca50",
   "metadata": {},
   "outputs": [],
   "source": [
    "#10. Identify the error in the following function definition:\n",
    "\n",
    "def greet(name)\n",
    "    print(\"Hello, \" + name)\n",
    "\n"
   ]
  },
  {
   "cell_type": "code",
   "execution_count": 11,
   "id": "24f7a5e5-a6c3-46b4-afe7-46fd841d361e",
   "metadata": {},
   "outputs": [],
   "source": [
    "#Answer:\n",
    "def greet(name):\n",
    "    print(\"Hello, \"+name)"
   ]
  },
  {
   "cell_type": "code",
   "execution_count": null,
   "id": "cd5413c0-d052-45ed-b251-0582d4ee15e5",
   "metadata": {},
   "outputs": [],
   "source": []
  }
 ],
 "metadata": {
  "kernelspec": {
   "display_name": "Python 3 (ipykernel)",
   "language": "python",
   "name": "python3"
  },
  "language_info": {
   "codemirror_mode": {
    "name": "ipython",
    "version": 3
   },
   "file_extension": ".py",
   "mimetype": "text/x-python",
   "name": "python",
   "nbconvert_exporter": "python",
   "pygments_lexer": "ipython3",
   "version": "3.12.7"
  }
 },
 "nbformat": 4,
 "nbformat_minor": 5
}
